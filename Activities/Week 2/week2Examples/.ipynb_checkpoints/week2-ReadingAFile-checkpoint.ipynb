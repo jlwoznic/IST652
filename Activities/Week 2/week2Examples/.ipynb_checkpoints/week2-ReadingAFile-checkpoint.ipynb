{
 "cells": [
  {
   "cell_type": "code",
   "execution_count": null,
   "metadata": {},
   "outputs": [],
   "source": [
    "# open the file for reading (in the same directory as the program)\n",
    "NBAfile = open ('NBA-Attendance-1989.txt', 'r')\n",
    "# iterate over the lines of the file and count the number of lines\n",
    "count = 0\n",
    "NBAlist = [ ]\n",
    "for line in NBAfile:\n",
    " # increment adds one to the count variable\n",
    " count += 1\n",
    " # strip the newline at the end of the line (and other white space from ends)\n",
    " textline = line.strip()\n",
    " # split the line on whitespace\n",
    " items = textline.split()\n",
    " # add the list of items to the NBAlist\n",
    "\n",
    " NBAlist.append(items)\n",
    "# print the number of teams read\n",
    "print('Number of teams:', count)\n"
   ]
  },
  {
   "cell_type": "code",
   "execution_count": null,
   "metadata": {},
   "outputs": [],
   "source": [
    "# print the lines from the list\n",
    "for line in NBAlist:\n",
    " print ('Line:', line)\n",
    "NBAfile.close()"
   ]
  },
  {
   "cell_type": "code",
   "execution_count": null,
   "metadata": {},
   "outputs": [],
   "source": [
    "for line in NBAlist:\n",
    "    print('Team: ',line[0],'   Attendance: ',line[1],'   Price: ',line[2])\n",
    "    "
   ]
  },
  {
   "cell_type": "code",
   "execution_count": null,
   "metadata": {},
   "outputs": [],
   "source": []
  },
  {
   "cell_type": "code",
   "execution_count": null,
   "metadata": {},
   "outputs": [],
   "source": []
  }
 ],
 "metadata": {
  "kernelspec": {
   "display_name": "Python 3",
   "language": "python",
   "name": "python3"
  },
  "language_info": {
   "codemirror_mode": {
    "name": "ipython",
    "version": 3
   },
   "file_extension": ".py",
   "mimetype": "text/x-python",
   "name": "python",
   "nbconvert_exporter": "python",
   "pygments_lexer": "ipython3",
   "version": "3.7.4"
  }
 },
 "nbformat": 4,
 "nbformat_minor": 2
}
