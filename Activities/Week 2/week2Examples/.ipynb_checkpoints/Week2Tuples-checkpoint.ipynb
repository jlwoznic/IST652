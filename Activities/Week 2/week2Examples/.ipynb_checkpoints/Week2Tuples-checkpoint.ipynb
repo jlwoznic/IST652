{
 "cells": [
  {
   "cell_type": "code",
   "execution_count": 1,
   "metadata": {},
   "outputs": [
    {
     "name": "stdout",
     "output_type": "stream",
     "text": [
      "<class 'tuple'> ('a',)\n",
      "<class 'str'> bc\n"
     ]
    }
   ],
   "source": [
    "t1 = 'a',  #(tuple)    \n",
    "t2 = 'bc'   #(string)\n",
    "print(type(t1), t1)\n",
    "print(type(t2), t2)\n"
   ]
  },
  {
   "cell_type": "code",
   "execution_count": 2,
   "metadata": {},
   "outputs": [
    {
     "name": "stdout",
     "output_type": "stream",
     "text": [
      "<class 'tuple'> ('a', 'b', 'c', 'd')\n",
      "<class 'tuple'> ('a', 'b', 'c', 'd')\n"
     ]
    }
   ],
   "source": [
    "# 2 different ways to define a tuple\n",
    "t3 = 'a','b','c','d'    \n",
    "t4 = ('a','b','c','d')\n",
    "print(type(t3), t3)\n",
    "\n",
    "print(type(t4), t4)\n"
   ]
  },
  {
   "cell_type": "code",
   "execution_count": 3,
   "metadata": {},
   "outputs": [
    {
     "name": "stdout",
     "output_type": "stream",
     "text": [
      "('g', 'o', 'r', 'g', 'e', 'o', 'u', 's')\n"
     ]
    }
   ],
   "source": [
    "#TUPLE function\n",
    "t3 = tuple('gorgeous')\n",
    "print(t3)"
   ]
  },
  {
   "cell_type": "code",
   "execution_count": 4,
   "metadata": {},
   "outputs": [
    {
     "name": "stdout",
     "output_type": "stream",
     "text": [
      "r\n",
      "('o', 'r')\n"
     ]
    }
   ],
   "source": [
    "# Can also use list operators\n",
    "print(t3[2])\n",
    "print(t3[1:3])  "
   ]
  },
  {
   "cell_type": "code",
   "execution_count": 5,
   "metadata": {},
   "outputs": [
    {
     "name": "stdout",
     "output_type": "stream",
     "text": [
      "('g', 'o', 'r', 'g', 'e', 'o', 'u', 's')\n"
     ]
    }
   ],
   "source": [
    "print(t3[:])"
   ]
  },
  {
   "cell_type": "code",
   "execution_count": 6,
   "metadata": {},
   "outputs": [
    {
     "name": "stdout",
     "output_type": "stream",
     "text": [
      "('g', 'o', 'r', 'g', 'e', 'o', 'u', 's')\n"
     ]
    }
   ],
   "source": [
    "print(t3)"
   ]
  },
  {
   "cell_type": "code",
   "execution_count": null,
   "metadata": {},
   "outputs": [],
   "source": []
  }
 ],
 "metadata": {
  "kernelspec": {
   "display_name": "Python 3",
   "language": "python",
   "name": "python3"
  },
  "language_info": {
   "codemirror_mode": {
    "name": "ipython",
    "version": 3
   },
   "file_extension": ".py",
   "mimetype": "text/x-python",
   "name": "python",
   "nbconvert_exporter": "python",
   "pygments_lexer": "ipython3",
   "version": "3.7.4"
  }
 },
 "nbformat": 4,
 "nbformat_minor": 2
}
