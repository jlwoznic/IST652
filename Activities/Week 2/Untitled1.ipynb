{
 "cells": [
  {
   "cell_type": "code",
   "execution_count": null,
   "metadata": {},
   "outputs": [],
   "source": [
    "# Accept input of User's Name\n",
    "userName = input(\"Enter Your Name: \")\n"
   ]
  },
  {
   "cell_type": "code",
   "execution_count": null,
   "metadata": {},
   "outputs": [],
   "source": [
    "# Welcome the User\n",
    "print(\"Welcome, \" + str(userName) + \"!\")"
   ]
  },
  {
   "cell_type": "code",
   "execution_count": null,
   "metadata": {},
   "outputs": [],
   "source": [
    "# Accept input of Celsius temperature\n",
    "cTemp = input(\"Enter Celsius temperature: \" )"
   ]
  },
  {
   "cell_type": "code",
   "execution_count": null,
   "metadata": {},
   "outputs": [],
   "source": [
    "# must check that this is numeric\n",
    "# determine Fahrenheit\n",
    "def test_temp(value):\n",
    "    try:\n",
    "        if value.isnumeric(): farh = (9/5 * float(value)) + 32\n",
    "        else: farh = \"Bad Temperature - Please enter a value between 0 and 100.\"\n",
    "    except: \n",
    "        farh = \"Bad Temperature\"\n",
    "    return farh"
   ]
  },
  {
   "cell_type": "code",
   "execution_count": null,
   "metadata": {},
   "outputs": [],
   "source": [
    "# convert to Fahrenheit\n",
    "fTemp = test_temp(cTemp)"
   ]
  },
  {
   "cell_type": "code",
   "execution_count": null,
   "metadata": {},
   "outputs": [],
   "source": [
    "# print responses\n",
    "print(\"Name: \" + userName)\n",
    "print(\"Celsius Temperature: \" + cTemp)\n",
    "print(\"Converted Fahrenheit Temperature: \" + str(fTemp))"
   ]
  }
 ],
 "metadata": {
  "kernelspec": {
   "display_name": "Python 3",
   "language": "python",
   "name": "python3"
  },
  "language_info": {
   "codemirror_mode": {
    "name": "ipython",
    "version": 3
   },
   "file_extension": ".py",
   "mimetype": "text/x-python",
   "name": "python",
   "nbconvert_exporter": "python",
   "pygments_lexer": "ipython3",
   "version": "3.7.4"
  }
 },
 "nbformat": 4,
 "nbformat_minor": 2
}
