{
 "cells": [
  {
   "cell_type": "code",
   "execution_count": null,
   "metadata": {},
   "outputs": [],
   "source": [
    "a = 35                 \n",
    "b = 12.50           \n",
    "c = a * b             \n",
    "print (c)             "
   ]
  },
  {
   "cell_type": "code",
   "execution_count": null,
   "metadata": {},
   "outputs": [],
   "source": [
    "hours = 35\n",
    "rate = 12.50\n",
    "pay = hours * rate\n",
    "print(pay)\n"
   ]
  },
  {
   "cell_type": "code",
   "execution_count": null,
   "metadata": {},
   "outputs": [],
   "source": [
    "xlq3z9ahd = 35\n",
    "xlq3z9afd = 12.50\n",
    "xlq3p9afd = xlq3z9ahd * xlq3z9afd\n",
    "\n",
    "print(xlq3p9afd)"
   ]
  },
  {
   "cell_type": "code",
   "execution_count": null,
   "metadata": {},
   "outputs": [],
   "source": [
    "friends = ['Joseph', 'Glenn', 'Sally']\n",
    "for friend in friends:\n",
    "\n",
    "        print('Happy Day: ',friend)\n",
    "print('Done!') "
   ]
  },
  {
   "cell_type": "code",
   "execution_count": null,
   "metadata": {},
   "outputs": [],
   "source": [
    "while True:\n",
    "       line = input('>  ')\n",
    "\n",
    "       if line[0] == '#':\n",
    "            continue\n",
    "\n",
    "       if line == 'done':\n",
    "\n",
    "             break\n",
    "\n",
    "       print(line)\n",
    "print('Done with this loop!')\n"
   ]
  },
  {
   "cell_type": "code",
   "execution_count": null,
   "metadata": {},
   "outputs": [],
   "source": [
    "while True:\n",
    "    inp = input('Enter a score:')\n",
    "    if inp == 'Done':\n",
    "        break\n",
    "    try:\n",
    "        score = float(inp) \n",
    "        if score < 0.0 or score > 1.0:\n",
    "            print('Bad score.')\n",
    "        elif score >= 0.9:\n",
    "            print('A')\n",
    "        elif score >= 0.8:\n",
    "            print('B')\n",
    "        elif score >= 0.7:\n",
    "            print('C')\n",
    "        elif score >= 0.6:\n",
    "            print('D')\n",
    "        else:\n",
    "            print('F')\n",
    "    except ValueError:\n",
    "        print('Enter a number.')\n",
    "    \n",
    "print('Broke out of loop')           \n"
   ]
  },
  {
   "cell_type": "code",
   "execution_count": null,
   "metadata": {},
   "outputs": [],
   "source": []
  }
 ],
 "metadata": {
  "kernelspec": {
   "display_name": "Python 3",
   "language": "python",
   "name": "python3"
  },
  "language_info": {
   "codemirror_mode": {
    "name": "ipython",
    "version": 3
   },
   "file_extension": ".py",
   "mimetype": "text/x-python",
   "name": "python",
   "nbconvert_exporter": "python",
   "pygments_lexer": "ipython3",
   "version": "3.7.4"
  }
 },
 "nbformat": 4,
 "nbformat_minor": 2
}
