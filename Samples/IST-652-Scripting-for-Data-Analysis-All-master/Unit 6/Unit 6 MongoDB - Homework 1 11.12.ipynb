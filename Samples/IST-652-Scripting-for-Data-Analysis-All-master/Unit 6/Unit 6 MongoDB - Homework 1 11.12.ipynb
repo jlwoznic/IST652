{
 "cells": [
  {
   "cell_type": "markdown",
   "metadata": {},
   "source": [
    "# Getting Started with MongoDB\n",
    "\n",
    "Steps:\n",
    "1. Install MongoDB here: https://docs.mongodb.com/manual/tutorial/install-mongodb-on-os-x/\n",
    "\n",
    "\n",
    "2. Install pymongo here: https://api.mongodb.com/python/current/installation.html\n",
    "\n",
    "\n",
    "3. Before using mongoDB, start mongodb at the command prompt.\n",
    "\n",
    "\n",
    "4. Now you can use the pymongo package."
   ]
  },
  {
   "cell_type": "code",
   "execution_count": null,
   "metadata": {},
   "outputs": [],
   "source": [
    "from pymongo import MongoClient\n",
    "\n",
    "client =  MongoClient('localhost',27017)\n",
    "\n",
    "# Show existing databases\n",
    "print(client.list_database_names())"
   ]
  },
  {
   "cell_type": "markdown",
   "metadata": {},
   "source": [
    "# HTML Parsing in Python Sample Code (courtesy of Thomas Bahng)"
   ]
  },
  {
   "cell_type": "code",
   "execution_count": null,
   "metadata": {},
   "outputs": [],
   "source": [
    "'''\n",
    "Choose a website and try to get the web page using urllib. \n",
    "If it doesn't return a page (perhaps because it uses cookies \n",
    "or other interactions to actually return content), try another one.\n",
    "\n",
    "Use BeautifulSoup to parse the document and choose \n",
    "some tags to obtain. You can do something simple like \n",
    "get the href attribute of all the anchor tags. Please \n",
    "submit your code and output, but please print only a \n",
    "small amount, for example, the first 10 tags. Or you \n",
    "may choose to find some other content from the html page.\n",
    "\n",
    "https://en.wikipedia.org/wiki/Machine_learning\n",
    "'''\n",
    "from urllib import request\n",
    "from bs4 import BeautifulSoup\n",
    "\n",
    "url = 'https://en.wikipedia.org/wiki/Machine_learning'\n",
    "with request.urlopen(url) as response:\n",
    "    html = response.read().decode('utf8')\n",
    "\n",
    "htmlsoup = BeautifulSoup(html, 'html.parser')\n",
    "links = [str(link.get('href')) for link in htmlsoup.find_all('a')]\n",
    "links_http = [link for link in links if link.startswith('http')]\n",
    "print(\"Successfully obtained {:d} hyperlinks from page.\".format(len(links_http)))\n",
    "\n",
    "print(\"\\n Top 10 Links:\\n\")\n",
    "print('\\n'.join(str(p) for p in links_http[:10]))"
   ]
  },
  {
   "cell_type": "markdown",
   "metadata": {},
   "source": [
    "# Walk through exercise with Thulasi Ram Ruppa Krishnan"
   ]
  },
  {
   "cell_type": "markdown",
   "metadata": {},
   "source": [
    "# Homework 1 (courtesy of Nyesher)"
   ]
  },
  {
   "cell_type": "code",
   "execution_count": null,
   "metadata": {},
   "outputs": [],
   "source": [
    "import numpy as np\n",
    "import pandas as pd\n",
    "from matplotlib import pyplot as plt\n",
    "%matplotlib inline \n",
    "pd.set_option('display.max_columns', 100)\n",
    "\n",
    "#Load Data\n",
    "df = pd.read_csv('/Users/jason/Dropbox/Teaching/Syracuse-Scripting-2019/Unit 6/Week 6 - Fall 2019/donors_data.csv')\n",
    "#Data Exploration\n",
    "df.shape\n",
    "\n",
    "#Dropping Rows in the data\n",
    "df.drop(['Row Id'], axis=1, inplace = True)\n",
    "df.drop(['Row Id.'], axis=1, inplace = True)\n",
    "df.drop(['zipconvert_2'], axis=1, inplace = True)\n",
    "df.drop(['zipconvert_3'], axis=1, inplace = True)\n",
    "df.drop(['zipconvert_4'], axis=1, inplace = True)\n",
    "df.drop(['zipconvert_5'], axis=1, inplace = True)\n",
    "df.drop(['Icmed'], axis=1, inplace = True)\n",
    "df.drop(['Icavg'], axis=1, inplace = True)\n",
    "df.drop(['IC15'], axis=1, inplace = True)\n",
    "df.drop(['TARGET_B'], axis=1, inplace = True)\n",
    "df.drop(['TARGET_D'], axis=1, inplace = True)\n",
    "\n",
    "#Print Data Frame\n",
    "df"
   ]
  },
  {
   "cell_type": "raw",
   "metadata": {},
   "source": [
    "#List of columns and their values\n",
    "df.dtypes"
   ]
  },
  {
   "cell_type": "code",
   "execution_count": null,
   "metadata": {},
   "outputs": [],
   "source": [
    "#Rounding the 'AVGGIFT' column to the nearest whole number \n",
    "df.AVGGIFT = df.AVGGIFT.round()\n",
    "\n",
    "#Sort by Gender \n",
    "df.sort_values('AVGGIFT', ascending=True)\n",
    "\n",
    "\n",
    "#Print Dataframe\n",
    "df"
   ]
  },
  {
   "cell_type": "markdown",
   "metadata": {},
   "source": [
    "# Question 1: Does gender affect the average amount of gifts to date? Who gives more , male or female?"
   ]
  },
  {
   "cell_type": "code",
   "execution_count": null,
   "metadata": {},
   "outputs": [],
   "source": [
    "#Creating a new dataframe that only reflects column \"Gender Dummy\" and \"AVG Gift\"\n",
    "newdf = df[['gender dummy', 'AVGGIFT']]\n",
    "\n",
    "#Rounding the 'AVGGIFT' column to the nearest whole number \n",
    "newdf.AVGGIFT = newdf.AVGGIFT.round()\n",
    "\n",
    "#Print the new Dataframe\n",
    "newdf"
   ]
  },
  {
   "cell_type": "code",
   "execution_count": null,
   "metadata": {},
   "outputs": [],
   "source": [
    "#Get the sum of the average gift per gender and round that value to the nearest whole number\n",
    "newdf.groupby(['gender dummy']).sum().round()"
   ]
  },
  {
   "cell_type": "code",
   "execution_count": null,
   "metadata": {},
   "outputs": [],
   "source": [
    "#Putting the group by dataframe in a new dataframe call \"Graphdf\"\n",
    "graphdf= newdf.groupby(['gender dummy']).sum().round()"
   ]
  },
  {
   "cell_type": "code",
   "execution_count": null,
   "metadata": {},
   "outputs": [],
   "source": [
    "#Create a bar graph\n",
    "graphdf.plot.bar()\n",
    "\n",
    "# Add title and axis names\n",
    "plt.title('The total average amount of gifts to date per gender.')\n",
    "plt.xlabel('Gender')\n",
    "plt.ylabel('Total of Average Gift')"
   ]
  },
  {
   "cell_type": "markdown",
   "metadata": {},
   "source": [
    "# Question#2: Out of all the genders that are homeowners who give the most? Out of all the genders that aren't homeowners who give the most?"
   ]
  },
  {
   "cell_type": "code",
   "execution_count": null,
   "metadata": {},
   "outputs": [],
   "source": [
    "#Create new dataframe to show gender, homeowner and average gift to date\n",
    "newdf2 = df[['gender dummy','homeowner dummy', 'AVGGIFT']]\n",
    "#Print dataframe\n",
    "newdf2"
   ]
  },
  {
   "cell_type": "code",
   "execution_count": null,
   "metadata": {},
   "outputs": [],
   "source": [
    "#Group by by homeowners\n",
    "newdf2.groupby(['homeowner dummy','gender dummy']).sum().round()"
   ]
  },
  {
   "cell_type": "code",
   "execution_count": null,
   "metadata": {},
   "outputs": [],
   "source": [
    "graphdf2= newdf2.groupby(['homeowner dummy','gender dummy']).sum()\n",
    "#Create a bar graph\n",
    "#graphdf2.plot.bar()\n",
    "graphdf2.plot(kind='bar',    # Plot a bar chart\n",
    "        legend=False,    # Turn the Legend off\n",
    "        width=0.75,      # Set bar width as 75% of space available\n",
    "        figsize=(8,5.8),  # Set size of plot in inches\n",
    "        color=[plt.cm.Paired(np.arange(len(graphdf2)))])\n",
    "\n",
    "# Add title and axis names\n",
    "plt.title('Which gender that are and are not homeowners give the most?')\n",
    "plt.xlabel('Homeowner/Gender')\n",
    "plt.ylabel('Total of Average Gift')"
   ]
  },
  {
   "cell_type": "markdown",
   "metadata": {},
   "source": [
    "# Final Project Proposal Sharing\n",
    "\n",
    "5 volunteers will share their proposals"
   ]
  }
 ],
 "metadata": {
  "kernelspec": {
   "display_name": "Python 3",
   "language": "python",
   "name": "python3"
  },
  "language_info": {
   "codemirror_mode": {
    "name": "ipython",
    "version": 3
   },
   "file_extension": ".py",
   "mimetype": "text/x-python",
   "name": "python",
   "nbconvert_exporter": "python",
   "pygments_lexer": "ipython3",
   "version": "3.7.3"
  }
 },
 "nbformat": 4,
 "nbformat_minor": 2
}
