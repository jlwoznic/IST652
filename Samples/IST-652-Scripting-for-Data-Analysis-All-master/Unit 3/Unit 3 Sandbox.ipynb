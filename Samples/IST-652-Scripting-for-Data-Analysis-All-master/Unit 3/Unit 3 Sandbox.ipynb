{
 "cells": [
  {
   "cell_type": "markdown",
   "metadata": {},
   "source": [
    "## Unit 3 Live Session Sandbox\n",
    "## Jason Anastasopoulos (ljanastas@syr.edu)\n",
    "\n",
    "### Lecture topics:\n",
    "\n",
    "- Boolean operators\n",
    "- Formatting for strings\n",
    "- Dictionaries\n",
    "- Reading and manipulating CSV files"
   ]
  },
  {
   "cell_type": "markdown",
   "metadata": {},
   "source": [
    "## Different ways to loop in Python"
   ]
  },
  {
   "cell_type": "code",
   "execution_count": 2,
   "metadata": {},
   "outputs": [
    {
     "name": "stdout",
     "output_type": "stream",
     "text": [
      "apple\n",
      "pear\n",
      "banana\n"
     ]
    }
   ],
   "source": [
    "# Create a list \n",
    "fruitlist = ['apple', 'pear', 'banana']\n",
    "\n",
    "# Loops using string representations\n",
    "# Printing out every element of the list\n",
    "\n",
    "for fruit in fruitlist:\n",
    "    print(fruit)"
   ]
  },
  {
   "cell_type": "code",
   "execution_count": 6,
   "metadata": {},
   "outputs": [
    {
     "name": "stdout",
     "output_type": "stream",
     "text": [
      "0\n",
      "apple\n",
      "1\n",
      "pear\n",
      "2\n",
      "banana\n"
     ]
    }
   ],
   "source": [
    "# Loops using indices \n",
    "# Print out every element of the list\n",
    "\n",
    "indices = range(0,len(fruitlist))\n",
    "\n",
    "for i in indices:\n",
    "    print(i)\n",
    "    print(fruitlist[i])"
   ]
  },
  {
   "cell_type": "code",
   "execution_count": 11,
   "metadata": {},
   "outputs": [
    {
     "data": {
      "text/plain": [
       "['a', 'p', 'b']"
      ]
     },
     "execution_count": 11,
     "metadata": {},
     "output_type": "execute_result"
    }
   ],
   "source": [
    "fruitlist_new = []\n",
    "for x in fruitlist:\n",
    "    fruitlist_new.append(x[0])\n",
    "    \n",
    "fruitlist_new"
   ]
  },
  {
   "cell_type": "code",
   "execution_count": 10,
   "metadata": {},
   "outputs": [
    {
     "data": {
      "text/plain": [
       "['a', 'p', 'b']"
      ]
     },
     "execution_count": 10,
     "metadata": {},
     "output_type": "execute_result"
    }
   ],
   "source": [
    "# Pythonic loops\n",
    "fruitlist_new = [x[0] for x in fruitlist]\n",
    "fruitlist_new"
   ]
  },
  {
   "cell_type": "markdown",
   "metadata": {},
   "source": [
    "## Boolean operators: if, and, or statements of truth"
   ]
  },
  {
   "cell_type": "code",
   "execution_count": 15,
   "metadata": {},
   "outputs": [
    {
     "name": "stdout",
     "output_type": "stream",
     "text": [
      "sorry bubs\n"
     ]
    }
   ],
   "source": [
    "# Create a list \n",
    "fruitlist = ['apple', 'pear', 'bannana']\n",
    "\n",
    "# Test if a plum is in this list\n",
    "'plum' in fruitlist\n",
    "\n",
    "# Print 'hooray' if there's an apple in the list\n",
    "#if 'apple' in fruitlist:\n",
    "#    print('hooray')\n",
    "    \n",
    "# and statements\n",
    "# Print 'hooray' if there's an apple and a pear in my list\n",
    "if ('apple' and 'plum') in fruitlist:\n",
    "    print('hooray')\n",
    "else:\n",
    "    print('sorry bubs')\n",
    "    \n",
    "# or statement\n",
    "# Print 'hooray' if there's an apple or a plum in my list\n",
    "#if ('apple' or 'plum') in fruitlist:\n",
    "#    print('hooray')"
   ]
  },
  {
   "cell_type": "markdown",
   "metadata": {},
   "source": [
    "# Error Handling (try/except)"
   ]
  },
  {
   "cell_type": "code",
   "execution_count": 21,
   "metadata": {},
   "outputs": [
    {
     "name": "stdout",
     "output_type": "stream",
     "text": [
      "apple\n",
      "pear\n",
      "bannana\n",
      "Sorry, you're at the of the list\n"
     ]
    }
   ],
   "source": [
    "fruitlist = ['apple', 'pear', 'bannana']\n",
    "indices = range(0,4)\n",
    "\n",
    "for i in indices:\n",
    "    try:\n",
    "        print(fruitlist[i])\n",
    "    except IndexError:\n",
    "        print(\"Sorry, you're at the of the list\")\n"
   ]
  },
  {
   "cell_type": "code",
   "execution_count": 31,
   "metadata": {},
   "outputs": [
    {
     "data": {
      "text/plain": [
       "True"
      ]
     },
     "execution_count": 31,
     "metadata": {},
     "output_type": "execute_result"
    }
   ],
   "source": [
    "# Test for character in a string\n",
    "'p' in fruitlist[0]"
   ]
  },
  {
   "cell_type": "markdown",
   "metadata": {},
   "source": [
    "## Formatting for strings"
   ]
  },
  {
   "cell_type": "code",
   "execution_count": 33,
   "metadata": {},
   "outputs": [
    {
     "name": "stdout",
     "output_type": "stream",
     "text": [
      "There are 4 fruits in the fruitlist and the first fruit is apple\n"
     ]
    }
   ],
   "source": [
    "fruitlist = ['apple', 'pear', 'bannana','blueberries']\n",
    "\n",
    "# Print out the number of elements in the fruitlist as part of the statement \n",
    "# \"there are x# of fruits\" \n",
    "# in the fruitlist\n",
    "\n",
    "print('There are {:d} fruits in the fruitlist and the first fruit is {:s}'.format(len(fruitlist),fruitlist[0]))\n"
   ]
  },
  {
   "cell_type": "markdown",
   "metadata": {},
   "source": [
    "## Dictionaries"
   ]
  },
  {
   "cell_type": "code",
   "execution_count": 25,
   "metadata": {},
   "outputs": [
    {
     "data": {
      "text/plain": [
       "dict"
      ]
     },
     "execution_count": 25,
     "metadata": {},
     "output_type": "execute_result"
    }
   ],
   "source": [
    "emptydict = dict()\n",
    "type(emptydict)\n",
    "\n",
    "phonedict = {'eric': '454-5555', 'john':'454-5195'}\n",
    "\n",
    "len(phonedict)\n",
    "\n",
    "# Retrieve the keys\n",
    "phonekeys = phonedict.keys()\n",
    "phonekeys\n",
    "\n",
    "# Retreive the values\n",
    "phonevalues = phonedict.values()\n",
    "\n",
    "# Look up a value  in the dictionary \n",
    "phonedict['john']"
   ]
  },
  {
   "cell_type": "code",
   "execution_count": 39,
   "metadata": {},
   "outputs": [
    {
     "name": "stdout",
     "output_type": "stream",
     "text": [
      "['Data of the States', 'State Abbrev.', 'Postal Abbrev.', 'Area (Sq Mi)', 'Population*']\n",
      "['Alabama', 'Ala.', 'AL', '52,423', '4,040,587']\n",
      "['Alaska', 'Alaska', 'AK', '656,424', '550,043']\n",
      "['Arizona', 'Ariz.', 'AZ', '114,006', '3,665,228']\n",
      "['Arkansas', 'Ark.', 'AR', '53,182', '2,350,725']\n",
      "['California', 'Calif.', 'CA', '163,707', '29,769,021']\n",
      "['Colorado', 'Colo.', 'CO', '104,100', '3,294,394']\n",
      "['Connecticut', 'Conn.', 'CT', '5,544', '3,287,116']\n",
      "['Delaware', 'Del.', 'DE', '2,489', '666,168']\n",
      "['District of Columbia', 'D.C.', 'DC', '68', '606,900']\n",
      "['Florida', 'Fla.', 'FL', '65,756', '12,937,926']\n",
      "['Georgia', 'Ga.', 'GA', '59,441', '6,478,216']\n",
      "['Hawaii', 'Hawaii', 'HI', '10,932', '1,108,229']\n",
      "['Idaho', 'Idaho', 'ID', '83,574', '1,006,749']\n",
      "['Illinois', 'Ill.', 'IL', '57,918', '11,430,602']\n",
      "['Indiana', 'Ind.', 'IN', '36,420', '5,544,159']\n",
      "['Iowa', 'Iowa', 'IA', '56,276', '2,776,755']\n",
      "['Kansas', 'Kans.', 'KS', '82,282', '2,477,574']\n",
      "['Kentucky', 'Ky.', 'KY', '40,411', '3,685,296']\n",
      "['Louisiana', 'La.', 'LA', '51,843', '4,219,973']\n",
      "['Maine', 'Maine', 'ME', '35,387', '1,227,928']\n",
      "['Maryland', 'Md.', 'MD', '12,407', '4,781,468']\n",
      "['Massachusetts', 'Mass.', 'MA', '10,555', '6,016,425']\n",
      "['Michigan', 'Mich.', 'MI', '96,705', '9,295,297']\n",
      "['Minnesota', 'Minn.', 'MN', '86,943', '4,375,099']\n",
      "['Mississippi', 'Miss.', 'MS', '48,434', '2,573,216']\n",
      "['Missouri', 'Mo.', 'MO', '69,709', '5,117,073']\n",
      "['Montana', 'Mont.', 'MT', '147,046', '799,065']\n",
      "['Nebraska', 'Nebr.', 'NE', '77,358', '1,578,385']\n",
      "['Nevada', 'Nev.', 'NV', '110,567', '1,201,833']\n",
      "['New Hampshire', 'N.H.', 'NH', '9,351', '1,109,252']\n",
      "['New Jersey', 'N.J.', 'NJ', '8,722', '7,730,188']\n",
      "['New Mexico', 'N.Mex.', 'NM', '121,598', '1,515,069']\n",
      "['New York', 'N.Y.', 'NY', '54,471', '17,990,455']\n",
      "['North Carolina', 'N.C.', 'NC', '53,821', '6,628,637']\n",
      "['North Dakota', 'N.Dak.', 'ND', '70,704', '638,800']\n",
      "['Ohio', 'Ohio', 'OH', '44,828', '10,847,115']\n",
      "['Oklahoma', 'Okla.', 'OK', '69,903', '3,145,585']\n",
      "['Oregon', 'Oreg.', 'OR', '98,386', '2,842,321']\n",
      "['Pennsylvania', 'Pa.', 'PA', '46,058', '11,881,643']\n",
      "['Rhode Island', 'R.I.', 'RI', '1,545', '1,003,464']\n",
      "['South Carolina', 'S.C.', 'SC', '32,008', '3,468,703']\n",
      "['South Dakota', 'S.Dak.', 'SD', '77,121', '696,004']\n",
      "['Tennessee', 'Tenn.', 'TN', '42,146', '4,877,185']\n",
      "['Texas', 'Tex.', 'TX', '268,601', '16,986,510']\n",
      "['Utah', 'Utah', 'UT', '84,904', '1,722,850']\n",
      "['Vermont', 'Vt.', 'VT', '9,615', '562,758']\n",
      "['Virginia', 'Va.', 'VA', '42,777', '6,187,358']\n",
      "['Washington', 'Wash.', 'WA', '71,302', '4,866,692']\n",
      "['West Virginia', 'W.Va.', 'WV', '24,231', '1,793,477']\n",
      "['Wisconsin', 'Wis.', 'WI', '65,499', '4,891,769']\n",
      "['Wyoming', 'Wyo.', 'WY', '97,818', '453,588']\n",
      "['', '', '', '', '']\n",
      "['United States', '', '', '3,787,316', '248,691,873']\n",
      "['', '', '', '', '']\n",
      "['* 1990 Census', '', '', '', '']\n"
     ]
    }
   ],
   "source": [
    "# This program reads the data from the states tsv file\n",
    "#     Each line has the state name, abbreviation, postal code, area and population.\n",
    "# It stores the items in each line in a dictionary whose keys represent the column names.\n",
    "#     It print the state name, abbreviation and population for each state.\n",
    "\n",
    "import csv\n",
    "\n",
    "infile = 'states_data.tsv'\n",
    "#infile.path  = '/Users/jason/Dropbox/Teaching/Syracuse-Scripting-2019/Unit 3/states_data.tsv'\n",
    "\n",
    "\n",
    "# create new empty list\n",
    "\n",
    "statesList = []\n",
    "\n",
    "with open(infile, 'r') as csvfile:\n",
    "\n",
    "    # the csv file reader returns a list of the csv items on each line\n",
    "\n",
    "    stateReader = csv.reader(csvfile,  dialect='excel', delimiter='\\t')\n",
    "    # Print out the first two letters of the first column.\n",
    "    for line in stateReader:\n",
    "        print(line)"
   ]
  },
  {
   "cell_type": "markdown",
   "metadata": {},
   "source": [
    "## Reading and manipulating csv files"
   ]
  },
  {
   "cell_type": "code",
   "execution_count": 43,
   "metadata": {},
   "outputs": [
    {
     "name": "stdout",
     "output_type": "stream",
     "text": [
      "State: Alabama  Abrv:  Ala.  Population:  4040587\n",
      "State: Alaska  Abrv:  Alaska  Population:  550043\n",
      "State: Arizona  Abrv:  Ariz.  Population:  3665228\n",
      "State: Arkansas  Abrv:  Ark.  Population:  2350725\n",
      "State: California  Abrv:  Calif.  Population:  29769021\n",
      "State: Colorado  Abrv:  Colo.  Population:  3294394\n",
      "State: Connecticut  Abrv:  Conn.  Population:  3287116\n",
      "State: Delaware  Abrv:  Del.  Population:  666168\n",
      "State: District of Columbia  Abrv:  D.C.  Population:  606900\n",
      "State: Florida  Abrv:  Fla.  Population:  12937926\n",
      "State: Georgia  Abrv:  Ga.  Population:  6478216\n",
      "State: Hawaii  Abrv:  Hawaii  Population:  1108229\n",
      "State: Idaho  Abrv:  Idaho  Population:  1006749\n",
      "State: Illinois  Abrv:  Ill.  Population:  11430602\n",
      "State: Indiana  Abrv:  Ind.  Population:  5544159\n",
      "State: Iowa  Abrv:  Iowa  Population:  2776755\n",
      "State: Kansas  Abrv:  Kans.  Population:  2477574\n",
      "State: Kentucky  Abrv:  Ky.  Population:  3685296\n",
      "State: Louisiana  Abrv:  La.  Population:  4219973\n",
      "State: Maine  Abrv:  Maine  Population:  1227928\n",
      "State: Maryland  Abrv:  Md.  Population:  4781468\n",
      "State: Massachusetts  Abrv:  Mass.  Population:  6016425\n",
      "State: Michigan  Abrv:  Mich.  Population:  9295297\n",
      "State: Minnesota  Abrv:  Minn.  Population:  4375099\n",
      "State: Mississippi  Abrv:  Miss.  Population:  2573216\n",
      "State: Missouri  Abrv:  Mo.  Population:  5117073\n",
      "State: Montana  Abrv:  Mont.  Population:  799065\n",
      "State: Nebraska  Abrv:  Nebr.  Population:  1578385\n",
      "State: Nevada  Abrv:  Nev.  Population:  1201833\n",
      "State: New Hampshire  Abrv:  N.H.  Population:  1109252\n",
      "State: New Jersey  Abrv:  N.J.  Population:  7730188\n",
      "State: New Mexico  Abrv:  N.Mex.  Population:  1515069\n",
      "State: New York  Abrv:  N.Y.  Population:  17990455\n",
      "State: North Carolina  Abrv:  N.C.  Population:  6628637\n",
      "State: North Dakota  Abrv:  N.Dak.  Population:  638800\n",
      "State: Ohio  Abrv:  Ohio  Population:  10847115\n",
      "State: Oklahoma  Abrv:  Okla.  Population:  3145585\n",
      "State: Oregon  Abrv:  Oreg.  Population:  2842321\n",
      "State: Pennsylvania  Abrv:  Pa.  Population:  11881643\n",
      "State: Rhode Island  Abrv:  R.I.  Population:  1003464\n",
      "State: South Carolina  Abrv:  S.C.  Population:  3468703\n",
      "State: South Dakota  Abrv:  S.Dak.  Population:  696004\n",
      "State: Tennessee  Abrv:  Tenn.  Population:  4877185\n",
      "State: Texas  Abrv:  Tex.  Population:  16986510\n",
      "State: Utah  Abrv:  Utah  Population:  1722850\n",
      "State: Vermont  Abrv:  Vt.  Population:  562758\n",
      "State: Virginia  Abrv:  Va.  Population:  6187358\n",
      "State: Washington  Abrv:  Wash.  Population:  4866692\n",
      "State: West Virginia  Abrv:  W.Va.  Population:  1793477\n",
      "State: Wisconsin  Abrv:  Wis.  Population:  4891769\n",
      "State: Wyoming  Abrv:  Wyo.  Population:  453588\n",
      "State: United States  Abrv:    Population:  248691873\n"
     ]
    }
   ],
   "source": [
    "# This program reads the data from the states tsv file\n",
    "#     Each line has the state name, abbreviation, postal code, area and population.\n",
    "# It stores the items in each line in a dictionary whose keys represent the column names.\n",
    "#     It print the state name, abbreviation and population for each state.\n",
    "\n",
    "import csv\n",
    "\n",
    "infile = 'states_data.tsv'\n",
    "#infile.path  = '/Users/jason/Dropbox/Teaching/Syracuse-Scripting-2019/Unit 3/states_data.tsv'\n",
    "\n",
    "\n",
    "# create new empty list\n",
    "\n",
    "statesList = []\n",
    "\n",
    "with open(infile, 'r') as csvfile:\n",
    "\n",
    "    # the csv file reader returns a list of the csv items on each line\n",
    "\n",
    "    stateReader = csv.reader(csvfile,  dialect='excel', delimiter='\\t')\n",
    "\n",
    "\n",
    "    # from each line, a list of row items, put each element in a dictionary\n",
    "\n",
    "    #   with a key representing the data\n",
    "\n",
    "    for line in stateReader:\n",
    "\n",
    "      # skip lines without data, specific for each file to catch non-data lines\n",
    "\n",
    "      if line[0] == '' or line[0].startswith('Data') or line[0].startswith('*'):\n",
    "\n",
    "          continue\n",
    "\n",
    "      else:\n",
    "\n",
    "          # create a dictionary for each state\n",
    "\n",
    "          state = {}\n",
    "\n",
    "          # add each piece of data under a key representing that column of data\n",
    "\n",
    "          state['name'] = line[0]\n",
    "\n",
    "          state['abbrev'] = line[1]\n",
    "\n",
    "          state['code'] = line[2]\n",
    "\n",
    "          state['area'] = int(line[3].replace(',',''))\n",
    "\n",
    "          state['pop'] = int(line[4].replace(',',''))\n",
    "\n",
    "          # The dictionary for Alabama\n",
    "          # state = {'name': 'Alabama', 'abbrev': 'Ala.', 'code':'AL', 'area': 52423, 'pop':4040587}\n",
    "          # add this state to the list\n",
    "\n",
    "          statesList.append(state)\n",
    "\n",
    "statesList[0:3]\n",
    "\n",
    "csvfile.close()\n",
    "\n",
    "\n",
    "#print (\"Read\", len(statesList), \"state data\")\n",
    "\n",
    "\n",
    "# print a few fields from all of the states read from the file\n",
    "\n",
    "\n",
    "for state in statesList:\n",
    "    print ('State:', state['name'], ' Abrv: ', state['abbrev'], ' Population: ', state['pop'])"
   ]
  },
  {
   "cell_type": "markdown",
   "metadata": {},
   "source": [
    "## Unit 3 Python Code (courtesy of Dr. Gregory Block)"
   ]
  },
  {
   "cell_type": "code",
   "execution_count": 9,
   "metadata": {},
   "outputs": [
    {
     "name": "stdout",
     "output_type": "stream",
     "text": [
      "-------- NBA Attendance 1989 ---------\n",
      "Team Atlanta had attendance 13993 with ticket price 20.06\n",
      "Team Boston had attendance 14916 with ticket price 22.54\n",
      "Team Charlotte had attendance 23901 with ticket price 17.00\n",
      "Team Chicago had attendance 18404 with ticket price 21.98\n",
      "Team Cleveland had attendance 16969 with ticket price 19.63\n",
      "Team Dallas had attendance 16868 with ticket price 17.05\n",
      "Team Denver had attendance 12668 with ticket price 17.40\n",
      "Team Detroit had attendance 21454 with ticket price 24.42\n",
      "Team Golden_State had attendance 15025 with ticket price 17.04\n",
      "Team Houston had attendance 15846 with ticket price 17.56\n",
      "Team Indiana had attendance 12885 with ticket price 13.77\n",
      "Team LA_Clippers had attendance 11869 with ticket price 21.95\n",
      "Team LA_Lakers had attendance 17378 with ticket price 29.18\n",
      "Team Miami had attendance 15008 with ticket price 17.60\n",
      "Team Milwaukee had attendance 16088 with ticket price 14.08\n",
      "Team Minnesota had attendance 26160 with ticket price 10.92\n",
      "Team New_Jersey had attendance 12160 with ticket price 13.31\n",
      "Team New_York had attendance 17815 with ticket price 22.70\n",
      "Team Orlando had attendance 15606 with ticket price 20.47\n",
      "Team Philadelphia had attendance 14017 with ticket price 19.04\n",
      "Team Phoenix had attendance 14114 with ticket price 16.59\n",
      "Team Portland had attendance 12884 with ticket price 22.19\n",
      "Team Sacramento had attendance 17014 with ticket price 16.96\n",
      "Team San_Antonio had attendance 14722 with ticket price 16.79\n",
      "Team Seattle had attendance 12244 with ticket price 18.11\n",
      "Team Utah had attendance 12616 with ticket price 18.41\n",
      "Team Washington had attendance 11565 with ticket price 14.55\n",
      "Number of teams: 27\n",
      "Total attendance is 424189 \n",
      "Team Minnesota has maximum attendance of 26160\n",
      "Team LA_Lakers has maximum ticket price of 29.18\n",
      "-------- sorting contacts by name ---------\n",
      "Contact don uses phone number 455-9988\n",
      "Contact eric uses phone number 454-5555\n",
      "Contact helen uses phone number 456-1234\n",
      "Contact john uses phone number 454-5195\n",
      "Contact michael uses phone number 454-9999\n",
      "-------- sorting contacts by number ---------\n",
      "Contact john uses phone number 454-5195\n",
      "Contact eric uses phone number 454-5555\n",
      "Contact michael uses phone number 454-9999\n",
      "Contact don uses phone number 455-9988\n",
      "Contact helen uses phone number 456-1234\n",
      "-------- sorting tuples by second value---------\n",
      "Tuple 2 has value 2\n",
      "Tuple 1 has value 3\n",
      "Tuple 3 has value 4\n",
      "Tuple 1 has value 7\n",
      "-------- sorting tuples by number ---------\n",
      "Tuple 1 has value 7\n",
      "Tuple 3 has value 4\n",
      "Tuple 1 has value 3\n",
      "Tuple 2 has value 2\n",
      "-------- state information ---------\n",
      "State: 'Alabama'', abbreviation 'Ala.'', code 'AL'', area '52423'', population '4040587'\n",
      "State: 'Alaska'', abbreviation 'Alaska'', code 'AK'', area '656424'', population '550043'\n",
      "State: 'Arizona'', abbreviation 'Ariz.'', code 'AZ'', area '114006'', population '3665228'\n",
      "State: 'Arkansas'', abbreviation 'Ark.'', code 'AR'', area '53182'', population '2350725'\n",
      "State: 'California'', abbreviation 'Calif.'', code 'CA'', area '163707'', population '29769021'\n",
      "State: 'Colorado'', abbreviation 'Colo.'', code 'CO'', area '104100'', population '3294394'\n",
      "State: 'Connecticut'', abbreviation 'Conn.'', code 'CT'', area '5544'', population '3287116'\n",
      "State: 'Delaware'', abbreviation 'Del.'', code 'DE'', area '2489'', population '666168'\n",
      "State: 'District of Columbia'', abbreviation 'D.C.'', code 'DC'', area '68'', population '606900'\n",
      "State: 'Florida'', abbreviation 'Fla.'', code 'FL'', area '65756'', population '12937926'\n",
      "State: 'Georgia'', abbreviation 'Ga.'', code 'GA'', area '59441'', population '6478216'\n",
      "State: 'Hawaii'', abbreviation 'Hawaii'', code 'HI'', area '10932'', population '1108229'\n",
      "State: 'Idaho'', abbreviation 'Idaho'', code 'ID'', area '83574'', population '1006749'\n",
      "State: 'Illinois'', abbreviation 'Ill.'', code 'IL'', area '57918'', population '11430602'\n",
      "State: 'Indiana'', abbreviation 'Ind.'', code 'IN'', area '36420'', population '5544159'\n",
      "State: 'Iowa'', abbreviation 'Iowa'', code 'IA'', area '56276'', population '2776755'\n",
      "State: 'Kansas'', abbreviation 'Kans.'', code 'KS'', area '82282'', population '2477574'\n",
      "State: 'Kentucky'', abbreviation 'Ky.'', code 'KY'', area '40411'', population '3685296'\n",
      "State: 'Louisiana'', abbreviation 'La.'', code 'LA'', area '51843'', population '4219973'\n",
      "State: 'Maine'', abbreviation 'Maine'', code 'ME'', area '35387'', population '1227928'\n",
      "State: 'Maryland'', abbreviation 'Md.'', code 'MD'', area '12407'', population '4781468'\n",
      "State: 'Massachusetts'', abbreviation 'Mass.'', code 'MA'', area '10555'', population '6016425'\n",
      "State: 'Michigan'', abbreviation 'Mich.'', code 'MI'', area '96705'', population '9295297'\n",
      "State: 'Minnesota'', abbreviation 'Minn.'', code 'MN'', area '86943'', population '4375099'\n",
      "State: 'Mississippi'', abbreviation 'Miss.'', code 'MS'', area '48434'', population '2573216'\n",
      "State: 'Missouri'', abbreviation 'Mo.'', code 'MO'', area '69709'', population '5117073'\n",
      "State: 'Montana'', abbreviation 'Mont.'', code 'MT'', area '147046'', population '799065'\n",
      "State: 'Nebraska'', abbreviation 'Nebr.'', code 'NE'', area '77358'', population '1578385'\n",
      "State: 'Nevada'', abbreviation 'Nev.'', code 'NV'', area '110567'', population '1201833'\n",
      "State: 'New Hampshire'', abbreviation 'N.H.'', code 'NH'', area '9351'', population '1109252'\n",
      "State: 'New Jersey'', abbreviation 'N.J.'', code 'NJ'', area '8722'', population '7730188'\n",
      "State: 'New Mexico'', abbreviation 'N.Mex.'', code 'NM'', area '121598'', population '1515069'\n",
      "State: 'New York'', abbreviation 'N.Y.'', code 'NY'', area '54471'', population '17990455'\n",
      "State: 'North Carolina'', abbreviation 'N.C.'', code 'NC'', area '53821'', population '6628637'\n",
      "State: 'North Dakota'', abbreviation 'N.Dak.'', code 'ND'', area '70704'', population '638800'\n",
      "State: 'Ohio'', abbreviation 'Ohio'', code 'OH'', area '44828'', population '10847115'\n",
      "State: 'Oklahoma'', abbreviation 'Okla.'', code 'OK'', area '69903'', population '3145585'\n",
      "State: 'Oregon'', abbreviation 'Oreg.'', code 'OR'', area '98386'', population '2842321'\n",
      "State: 'Pennsylvania'', abbreviation 'Pa.'', code 'PA'', area '46058'', population '11881643'\n",
      "State: 'Rhode Island'', abbreviation 'R.I.'', code 'RI'', area '1545'', population '1003464'\n",
      "State: 'South Carolina'', abbreviation 'S.C.'', code 'SC'', area '32008'', population '3468703'\n",
      "State: 'South Dakota'', abbreviation 'S.Dak.'', code 'SD'', area '77121'', population '696004'\n",
      "State: 'Tennessee'', abbreviation 'Tenn.'', code 'TN'', area '42146'', population '4877185'\n",
      "State: 'Texas'', abbreviation 'Tex.'', code 'TX'', area '268601'', population '16986510'\n",
      "State: 'Utah'', abbreviation 'Utah'', code 'UT'', area '84904'', population '1722850'\n",
      "State: 'Vermont'', abbreviation 'Vt.'', code 'VT'', area '9615'', population '562758'\n",
      "State: 'Virginia'', abbreviation 'Va.'', code 'VA'', area '42777'', population '6187358'\n",
      "State: 'Washington'', abbreviation 'Wash.'', code 'WA'', area '71302'', population '4866692'\n",
      "State: 'West Virginia'', abbreviation 'W.Va.'', code 'WV'', area '24231'', population '1793477'\n",
      "State: 'Wisconsin'', abbreviation 'Wis.'', code 'WI'', area '65499'', population '4891769'\n",
      "State: 'Wyoming'', abbreviation 'Wyo.'', code 'WY'', area '97818'', population '453588'\n",
      "State: 'United States'', abbreviation ''', code ''', area '3787316'', population '248691873'\n"
     ]
    },
    {
     "name": "stderr",
     "output_type": "stream",
     "text": [
      "/Users/jason/anaconda3/lib/python3.7/site-packages/ipykernel_launcher.py:69: DeprecationWarning: 'U' mode is deprecated\n"
     ]
    }
   ],
   "source": [
    "from decimal import *\n",
    "import csv\n",
    "\n",
    "# region NBA-Attendance-1989\n",
    "from typing import List, Any\n",
    "\n",
    "nba_list = []\n",
    "\n",
    "# open the file and copy each line to an array\n",
    "with open('NBA-Attendance-1989.txt') as nba_file:\n",
    "    for each_line in nba_file:\n",
    "        team, attendance, ticket = each_line.strip().split()\n",
    "        nba_list.append([team, int(attendance), Decimal(ticket)])\n",
    "\n",
    "# close the file as soon as possible\n",
    "\n",
    "# print team information\n",
    "print(\"-------- NBA Attendance 1989 ---------\")\n",
    "for team, attendance, ticket in nba_list:\n",
    "    print('Team {0} had attendance {1} with ticket price {2:5.2f}'.format(team, attendance, ticket))\n",
    "\n",
    "# calculate team metrics\n",
    "total_attendance = sum(attendance for team, attendance, ticket in nba_list)\n",
    "max_attendance: int = max(attendance for team, attendance, ticket in nba_list)\n",
    "max_ticket_price: Decimal = max(ticket for team, attendance, ticket in nba_list)\n",
    "\n",
    "# note the use of or [None])[0] -- this pulls the first item out of the list\n",
    "team_with_max_attendance = ([team for team, attendance, ticket in nba_list if attendance == max_attendance] or [None])[0]\n",
    "team_with_max_ticket_price = ([team for team, attendance, ticket in nba_list if ticket == max_ticket_price] or [None])[0]\n",
    "\n",
    "# print team metrics\n",
    "print('Number of teams: {0}'.format(len(nba_list)))\n",
    "print(f\"Total attendance is {total_attendance} \")\n",
    "print(f\"Team {team_with_max_attendance} has maximum attendance of {max_attendance}\")\n",
    "print(f\"Team {team_with_max_ticket_price} has maximum ticket price of {max_ticket_price}\")\n",
    "# endregion\n",
    "\n",
    "# region Using dictionaries\n",
    "\n",
    "# create the dictionary\n",
    "phone_dict = {'eric': '454-5555', 'john': '454-5195', 'michael': '454-9999', 'helen': '456-1234', 'don': '455-9988'}\n",
    "\n",
    "# sort by contact\n",
    "print(\"-------- sorting contacts by name ---------\")\n",
    "for contact, phone_number in sorted(phone_dict.items()):\n",
    "    print(f\"Contact {contact} uses phone number {phone_number}\")\n",
    "\n",
    "# sort by phone number\n",
    "print(\"-------- sorting contacts by number ---------\")\n",
    "for contact, phone_number in sorted(phone_dict.items(), key=lambda kv: (kv[1], kv[0])):\n",
    "    print(f\"Contact {contact} uses phone number {phone_number}\")\n",
    "\n",
    "# sorting tuples\n",
    "sort_tuples = [(1,7),(1,3),(3,4),(2,2)]\n",
    "print(\"-------- sorting tuples by second value---------\")\n",
    "for lhs, rhs in sorted(sort_tuples, key=lambda each_tuple: (each_tuple[1])):\n",
    "    print(f\"Tuple {lhs} has value {rhs}\")\n",
    "\n",
    "print(\"-------- sorting tuples by number ---------\")\n",
    "for lhs, rhs in sorted(sort_tuples, reverse=True, key=lambda each_tuple: (each_tuple[1])):\n",
    "    print(f\"Tuple {lhs} has value {rhs}\")\n",
    "\n",
    "# endregion\n",
    "\n",
    "# region CSV files\n",
    "source_file = 'states_data.tsv'\n",
    "state_list = []\n",
    "\n",
    "with open(source_file, 'rU') as csv_file:\n",
    "    state_reader = csv.reader(csv_file, dialect='excel', delimiter='\\t')\n",
    "\n",
    "    lines = [line for line in state_reader if line[0] != '' and not line[0].startswith('Data') and not line[0].startswith('*')]\n",
    "    for each_line in lines:\n",
    "        state_name = each_line[0]\n",
    "        state_abbrev = each_line[1]\n",
    "        state_code = each_line[2]\n",
    "        state_area = each_line[3].replace(',', '')\n",
    "        state_pop = each_line[4].replace(',', '')\n",
    "        state_list.append([state_name, state_abbrev, state_code, state_area, state_pop])\n",
    "\n",
    "# close the file here\n",
    "\n",
    "# print a few fields from all of the states read from the file\n",
    "print(\"-------- state information ---------\")\n",
    "for state_name, state_abbrev, state_code, state_area, state_pop in state_list:\n",
    "    print(f\"State: '{state_name}'', abbreviation '{state_abbrev}'', code '{state_code}'', area '{state_area}'', population '{state_pop}'\")\n",
    "# endregion"
   ]
  }
 ],
 "metadata": {
  "kernelspec": {
   "display_name": "Python 3",
   "language": "python",
   "name": "python3"
  },
  "language_info": {
   "codemirror_mode": {
    "name": "ipython",
    "version": 3
   },
   "file_extension": ".py",
   "mimetype": "text/x-python",
   "name": "python",
   "nbconvert_exporter": "python",
   "pygments_lexer": "ipython3",
   "version": "3.7.3"
  }
 },
 "nbformat": 4,
 "nbformat_minor": 2
}
