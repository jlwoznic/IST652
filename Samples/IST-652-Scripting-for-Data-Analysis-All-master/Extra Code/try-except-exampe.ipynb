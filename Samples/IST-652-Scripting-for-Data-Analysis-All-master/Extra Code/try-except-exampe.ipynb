{
 "cells": [
  {
   "cell_type": "code",
   "execution_count": 8,
   "metadata": {},
   "outputs": [
    {
     "name": "stdout",
     "output_type": "stream",
     "text": [
      "Enter score: dud\n",
      "You entered the wrong input type, try again.\n"
     ]
    }
   ],
   "source": [
    "try:\n",
    "    score = input(\"Enter score: \")\n",
    "    score =float (score)\n",
    "    if score >= 0.9 and score <=1.0:\n",
    "        print (\"Grade: A \")\n",
    "    elif score >= 0.8 and score <=0.9 :\n",
    "        print (\"Grade: B \")\n",
    "    elif score >= 0.7 and score <=0.8:\n",
    "        print (\"Grade: C \") \n",
    "    elif score >= 0.6 and score <=0.7 :\n",
    "        print (\"Grade: D \") \n",
    "    elif score < 0.6 :\n",
    "        print (\"Grade: F \")\n",
    "    else:\n",
    "        print (\"Bad score\")\n",
    "except NameError:\n",
    "    print(\"You entered the wrong input type, try again.\")"
   ]
  },
  {
   "cell_type": "code",
   "execution_count": null,
   "metadata": {},
   "outputs": [],
   "source": []
  }
 ],
 "metadata": {
  "kernelspec": {
   "display_name": "Python 2",
   "language": "python",
   "name": "python2"
  },
  "language_info": {
   "codemirror_mode": {
    "name": "ipython",
    "version": 2
   },
   "file_extension": ".py",
   "mimetype": "text/x-python",
   "name": "python",
   "nbconvert_exporter": "python",
   "pygments_lexer": "ipython2",
   "version": "2.7.15"
  }
 },
 "nbformat": 4,
 "nbformat_minor": 2
}
